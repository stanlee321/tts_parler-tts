{
 "cells": [
  {
   "cell_type": "code",
   "execution_count": 5,
   "metadata": {},
   "outputs": [
    {
     "data": {
      "text/html": [
       "<div>\n",
       "<style scoped>\n",
       "    .dataframe tbody tr th:only-of-type {\n",
       "        vertical-align: middle;\n",
       "    }\n",
       "\n",
       "    .dataframe tbody tr th {\n",
       "        vertical-align: top;\n",
       "    }\n",
       "\n",
       "    .dataframe thead th {\n",
       "        text-align: right;\n",
       "    }\n",
       "</style>\n",
       "<table border=\"1\" class=\"dataframe\">\n",
       "  <thead>\n",
       "    <tr style=\"text-align: right;\">\n",
       "      <th></th>\n",
       "      <th>text</th>\n",
       "      <th>ssml</th>\n",
       "    </tr>\n",
       "  </thead>\n",
       "  <tbody>\n",
       "    <tr>\n",
       "      <th>0</th>\n",
       "      <td>Under the soft glow of the vintage chandeliers...</td>\n",
       "      <td>&lt;speak&gt;    Under the soft glow of the vintage ...</td>\n",
       "    </tr>\n",
       "    <tr>\n",
       "      <th>1</th>\n",
       "      <td>Captain Zara adjusted the spaceship's controls...</td>\n",
       "      <td>&lt;speak&gt;    Captain Zara adjusted the spaceship...</td>\n",
       "    </tr>\n",
       "    <tr>\n",
       "      <th>2</th>\n",
       "      <td>Under the soft glow of the café lights, Emma's...</td>\n",
       "      <td>&lt;speak&gt;    Under the soft glow of the café lig...</td>\n",
       "    </tr>\n",
       "    <tr>\n",
       "      <th>3</th>\n",
       "      <td>Sarah's alarm buzzed at precisely 6:30 AM, pul...</td>\n",
       "      <td>&lt;speak&gt;  Sarah's alarm buzzed at precisely &lt;sa...</td>\n",
       "    </tr>\n",
       "    <tr>\n",
       "      <th>4</th>\n",
       "      <td>At precisely 6:30 AM, Mia's alarm blared throu...</td>\n",
       "      <td>&lt;speak&gt;    At precisely &lt;say-as interpret-as=\"...</td>\n",
       "    </tr>\n",
       "  </tbody>\n",
       "</table>\n",
       "</div>"
      ],
      "text/plain": [
       "                                                text  \\\n",
       "0  Under the soft glow of the vintage chandeliers...   \n",
       "1  Captain Zara adjusted the spaceship's controls...   \n",
       "2  Under the soft glow of the café lights, Emma's...   \n",
       "3  Sarah's alarm buzzed at precisely 6:30 AM, pul...   \n",
       "4  At precisely 6:30 AM, Mia's alarm blared throu...   \n",
       "\n",
       "                                                ssml  \n",
       "0  <speak>    Under the soft glow of the vintage ...  \n",
       "1  <speak>    Captain Zara adjusted the spaceship...  \n",
       "2  <speak>    Under the soft glow of the café lig...  \n",
       "3  <speak>  Sarah's alarm buzzed at precisely <sa...  \n",
       "4  <speak>    At precisely <say-as interpret-as=\"...  "
      ]
     },
     "execution_count": 5,
     "metadata": {},
     "output_type": "execute_result"
    }
   ],
   "source": [
    "import pandas as pd\n",
    "\n",
    "\n",
    "df = pd.read_csv('cleaned_ssml_dataset_2024080616.csv')\n",
    "\n",
    "df.head()"
   ]
  },
  {
   "cell_type": "code",
   "execution_count": 1,
   "metadata": {},
   "outputs": [
    {
     "name": "stderr",
     "output_type": "stream",
     "text": [
      "/home/stanley/anaconda3/envs/audio_p11/lib/python3.11/site-packages/tqdm/auto.py:21: TqdmWarning: IProgress not found. Please update jupyter and ipywidgets. See https://ipywidgets.readthedocs.io/en/stable/user_install.html\n",
      "  from .autonotebook import tqdm as notebook_tqdm\n",
      "Flash attention 2 is not installed\n"
     ]
    }
   ],
   "source": [
    "from parler_tts import ParlerTTSForConditionalGeneration\n",
    "from transformers import AutoTokenizer\n",
    "import soundfile as sf\n",
    "import torch\n",
    "\n",
    "device = \"cpu\"\n",
    "if torch.cuda.is_available():\n",
    "    device = \"cuda:0\"\n",
    "if torch.backends.mps.is_available():\n",
    "    device = \"mps\"\n",
    "if torch.xpu.is_available():\n",
    "    device = \"xpu\"\n",
    "torch_dtype = torch.float16 if device != \"cpu\" else torch.float32\n"
   ]
  },
  {
   "cell_type": "code",
   "execution_count": 2,
   "metadata": {},
   "outputs": [
    {
     "data": {
      "text/plain": [
       "'cuda:0'"
      ]
     },
     "execution_count": 2,
     "metadata": {},
     "output_type": "execute_result"
    }
   ],
   "source": [
    "device"
   ]
  },
  {
   "cell_type": "code",
   "execution_count": 3,
   "metadata": {},
   "outputs": [
    {
     "name": "stderr",
     "output_type": "stream",
     "text": [
      "/home/stanley/anaconda3/envs/audio_p11/lib/python3.11/site-packages/huggingface_hub/file_download.py:1150: FutureWarning: `resume_download` is deprecated and will be removed in version 1.0.0. Downloads always resume when possible. If you want to force a new download, use `force_download=True`.\n",
      "  warnings.warn(\n",
      "/home/stanley/anaconda3/envs/audio_p11/lib/python3.11/site-packages/torch/nn/utils/weight_norm.py:134: FutureWarning: `torch.nn.utils.weight_norm` is deprecated in favor of `torch.nn.utils.parametrizations.weight_norm`.\n",
      "  WeightNorm.apply(module, name, dim)\n",
      "You set `add_prefix_space`. The tokenizer needs to be converted from the slow tokenizers\n"
     ]
    }
   ],
   "source": [
    "\n",
    "# model = ParlerTTSForConditionalGeneration.from_pretrained(\"parler-tts/parler_tts_mini_v0.1\", torch_dtype=torch_dtype).to(device)\n",
    "\n",
    "# tokenizer = AutoTokenizer.from_pretrained(\"parler-tts/parler_tts_mini_v0.1\")\n",
    "\n",
    "\n",
    "model = ParlerTTSForConditionalGeneration.from_pretrained(\"parler-tts/parler-tts-mini-expresso\").to(device)\n",
    "tokenizer = AutoTokenizer.from_pretrained(\"parler-tts/parler-tts-mini-expresso\")\n"
   ]
  },
  {
   "cell_type": "code",
   "execution_count": 6,
   "metadata": {},
   "outputs": [
    {
     "name": "stdout",
     "output_type": "stream",
     "text": [
      "Under the soft glow of the vintage chandeliers at Café Vienna, nestled on 54th Elm Street, Sophie felt a flutter of nerves as she stirred her cinnamon latte. The café, with its cushioned booths and old world charm, was her favorite spot in town. Every corner was adorned with bookshelves and potted plants, creating an intimate, inviting atmosphere. \n",
      "\n",
      "She glanced at the door just in time to see Daniel walk in. His tall frame was familiar, but there was an easy grace in his steps she hadn’t noticed before. His dark hair was slightly tousled by the autumn wind, and his blue eyes lit up as they met hers. The background hum of hushed conversations seemed to fade away.\n",
      "\n",
      "\"Hey, Sophie,\" he greeted, his voice warm and sincere. He slid into the seat across from her, setting down a single red rose—a gesture that made her heart skip a beat.\n",
      "\n",
      "“Daniel, you didn’t have to,” she said, her cheeks flushing a delicate pink as she accepted the flower. \n",
      "\n",
      "“I wanted to,” he replied, his gaze unwavering. “It’s been too long.”\n",
      "\n",
      "The conversation flowed effortlessly as memories and laughter bridged the gap of years. They recalled old stories, their lives weaving a tapestry of shared moments. Sophie realized how much she had missed this—the heartfelt talks, the way his laughter could brighten the entire room.\n",
      "\n",
      "\"You know,\" he said softly, reaching across the table to hold her hand, \"I’ve thought about this a lot. About us. And I don’t want to let more time slip through without telling you…\"\n",
      "\n",
      "Sophie’s heart thudded in her chest, the world outside the café disappearing entirely. In that moment, under those cozy, amber lights, the future seemed to blossom with endless possibilities.\n"
     ]
    }
   ],
   "source": [
    "test_text = df['text'][0]\n",
    "print(test_text)"
   ]
  },
  {
   "cell_type": "code",
   "execution_count": 41,
   "metadata": {},
   "outputs": [],
   "source": [
    "test_text = \"\"\"\n",
    "Under the soft glow of the vintage chandeliers at Café Vienna, nestled on 54th Elm Street, Sophie felt a flutter of nerves as she stirred her cinnamon latte.\n",
    "\n",
    "\"\"\"\n",
    "\n",
    "test_text = \"\"\"\n",
    "\n",
    "he conversation flowed effortlessly as memories and laughter bridged the gap of years. They recalled old stories, their lives weaving a tapestry of shared moments. Sophie realized how much she had missed \n",
    "\n",
    "\n",
    "\"\"\""
   ]
  },
  {
   "cell_type": "code",
   "execution_count": 42,
   "metadata": {},
   "outputs": [
    {
     "name": "stdout",
     "output_type": "stream",
     "text": [
      "32\n"
     ]
    }
   ],
   "source": [
    "word_count = len(test_text.split())\n",
    "print(word_count)"
   ]
  },
  {
   "cell_type": "code",
   "execution_count": 43,
   "metadata": {},
   "outputs": [],
   "source": [
    "prompt = test_text\n",
    "#description = \"Jerry speaks with a confused tone and at a moderate speed with high quality audio, speaker with a slightly low-pitched voice delivers her words quite expressively he speaks slowly\"# \"A female speaker with a slightly low-pitched voice delivers her words quite expressively, in a very confined sounding environment with clear audio quality. **high quality audio**\"\n",
    "# description = \"A female speaker that takes the SSML tags inside the text for reference, in a very confined sounding environment with clear audio quality.\"\n",
    "description = \"\"\" \n",
    "gender\": \"female\",\n",
    "\n",
    "          \"age\": 35,\n",
    "\n",
    "          \"accent\": \"Southern\",\n",
    "\n",
    "          \"emotionalIntensity\": \"calm\",\n",
    "\n",
    "          \"pitch\": \"180 Hz\",\n",
    "\n",
    "          \"speakingRate\":\n",
    "          \n",
    "          \"\"\"\n"
   ]
  },
  {
   "cell_type": "code",
   "execution_count": 44,
   "metadata": {},
   "outputs": [],
   "source": [
    "input_ids = tokenizer(description, return_tensors=\"pt\").input_ids.to(device)\n",
    "prompt_input_ids = tokenizer(prompt, return_tensors=\"pt\").input_ids.to(device)\n"
   ]
  },
  {
   "cell_type": "code",
   "execution_count": 47,
   "metadata": {},
   "outputs": [],
   "source": [
    "\n",
    "generation = model.generate(input_ids=input_ids, \n",
    "                            prompt_input_ids=prompt_input_ids,\n",
    "                            max_new_tokens=3000\n",
    "                            ).to(torch.float32)\n",
    "audio_arr = generation.cpu().numpy().squeeze()"
   ]
  },
  {
   "cell_type": "code",
   "execution_count": 48,
   "metadata": {},
   "outputs": [],
   "source": [
    "sf.write(\"parler_tts_out_ssml_new.mp3\", audio_arr, model.config.sampling_rate)"
   ]
  }
 ],
 "metadata": {
  "kernelspec": {
   "display_name": "audio_p11",
   "language": "python",
   "name": "python3"
  },
  "language_info": {
   "codemirror_mode": {
    "name": "ipython",
    "version": 3
   },
   "file_extension": ".py",
   "mimetype": "text/x-python",
   "name": "python",
   "nbconvert_exporter": "python",
   "pygments_lexer": "ipython3",
   "version": "3.11.9"
  }
 },
 "nbformat": 4,
 "nbformat_minor": 2
}
